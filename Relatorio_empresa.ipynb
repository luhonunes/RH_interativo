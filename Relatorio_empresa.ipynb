{
  "nbformat": 4,
  "nbformat_minor": 0,
  "metadata": {
    "colab": {
      "provenance": [],
      "authorship_tag": "ABX9TyMeTqZsD0RRpJDKuR0oNQiv",
      "include_colab_link": true
    },
    "kernelspec": {
      "name": "python3",
      "display_name": "Python 3"
    },
    "language_info": {
      "name": "python"
    }
  },
  "cells": [
    {
      "cell_type": "markdown",
      "metadata": {
        "id": "view-in-github",
        "colab_type": "text"
      },
      "source": [
        "<a href=\"https://colab.research.google.com/github/luhonunes/RH_interativo/blob/main/Relatorio_empresa.ipynb\" target=\"_parent\"><img src=\"https://colab.research.google.com/assets/colab-badge.svg\" alt=\"Open In Colab\"/></a>"
      ]
    },
    {
      "cell_type": "markdown",
      "source": [
        "# <font color = teal> <center> Análise das Razões de Saída dos Funcionários da Empresa e Propostas de Soluções </font> </center>\n",
        "\n",
        "<font color = gray> *Projeto Individual - Módulo 5: Pessoas Deixando a Empresa* </font>\n",
        "\n",
        "## Introdução\n",
        "\n",
        "A retenção de talentos é um fator crítico para o sucesso de qualquer organização. Compreender por que os funcionários estão deixando a empresa é essencial para implementar estratégias de melhoria. Este relatório explora as razões por trás das saídas dos funcionários na organização de marketing e propõe soluções com base em análises de dados abrangentes.\n",
        "\n",
        "## A Jornada pelos Dados Organizacionais\n",
        "\n",
        "Imagine-se em uma sala de dados, onde cada gráfico e estatística é uma pista intrigante em uma grande busca pela verdade. Como analista de dados recém-contratado, você recebeu uma missão crítica: colaborar com o Parceiro de Negócios de Recursos Humanos (HRBP) para desvendar os mistérios por trás das saídas de funcionários em toda a organização de marketing. Seu chefe, o Chief Marketing Officer (CMO), está ansioso por respostas claras que possam trazer insights e guiar ações futuras.\n",
        "\n",
        "## Fonte de Dados\n",
        "Os dados foram coletados por meio de entrevistas com o HRBP e uma pesquisa de saída. As situações identificadas foram traduzidas em uma visualização intrigante que atua como fragmentos de um quebra-cabeça maior, representando possíveis razões pelas quais os funcionários estão deixando a empresa:\n",
        "\n",
        "- Treinamento insuficiente\n",
        "- Conflitos interpessoais\n",
        "- Falta de reconhecimento\n",
        "- Carga horária excessiva\n",
        "- Falta de progressão de carreira\n",
        "- Remuneração inadequada\n",
        "- Insatisfação com o tipo de trabalho\n",
        "- Desejo de mudar de carreira\n",
        "- Inconveniências no trajeto\n",
        "- Necessidade de realocação\n",
        "- Problemas de saúde\n",
        "---"
      ],
      "metadata": {
        "id": "w-hTdvHYlcAU"
      }
    },
    {
      "cell_type": "markdown",
      "source": [
        "![Reasons for Leaving](https://swd-community-media.s3.amazonaws.com/media/django-summernote/2021-05-12/38651886-9bfe-4266-8c5d-cce1edd2b93c.png)"
      ],
      "metadata": {
        "id": "bExPL0N1eNP2"
      }
    },
    {
      "cell_type": "markdown",
      "source": [
        "---"
      ],
      "metadata": {
        "id": "IPfl29vSb0AB"
      }
    },
    {
      "cell_type": "markdown",
      "source": [
        "### <center>  Análise dos Dados e Visualizações </center>\n",
        "\n",
        "**Gráfico de Bolhas 1: Respostas ao HRBP**\n",
        "\n",
        "- O que está sendo mostrado aqui?\n",
        "\n",
        "Este gráfico de bolhas representa as razões de saída dos funcionários, com base nas respostas fornecidas ao HRBP. Cada bolha representa uma situação específica que pode estar contribuindo para a saída dos funcionários. O eixo horizontal mostra o número de funcionários que mencionaram cada motivo, enquanto o eixo vertical indica o quão impactante é a saída por esse motivo.\n",
        "\n",
        "- Observações a partir dos dados:\n",
        "\n",
        "1. A falta de progressão na carreira é mencionada por um número significativo de funcionários e tem um alto impacto na saída, seguido do Tipo de Trabalho e a seguir, Realocação.\n",
        "\n",
        "1. A remuneração tem um impacto moderado, com uma quantidade razoável de menções, indicando que é um fator a ser considerado.\n",
        "\n",
        "- Melhorias e Feedback:\n",
        "\n",
        "A visualização é clara e eficaz para entender as razões e seu impacto, mas seria útil adicionar rótulos às bolhas para identificar facilmente as situações específicas. Além disso, a legenda explicativa para a escala vertical (Ability to Impact) pode ser adicionada para maior clareza.\n",
        "\n",
        "**Gráfico de Bolhas 2: Pesquisa de Saída**\n",
        "\n",
        "- O que está sendo mostrado aqui?\n",
        "\n",
        "Este segundo gráfico de bolhas retrata as razões de saída com base nos dados de uma pesquisa realizada. Novamente, cada bolha representa uma razão específica para a saída dos funcionários, onde o eixo horizontal indica a quantidade de menções e o eixo vertical mostra o impacto na empresa.\n",
        "\n",
        "- Observações a partir dos dados:\n",
        "\n",
        "1. A falta de reconhecimento e o tipo de trabalho são razões frequentes para a saída, com um impacto significativo na empresa.\n",
        "\n",
        "1. A progressão de carreira, a realocação e o trajeto também são mencionadas por muitos funcionários.\n",
        "\n",
        "- Melhorias e Feedback:\n",
        "\n",
        "A visualização é informativa para analisar a dispersão dos motivos dados para a saída. Para melhor compreensão, seria interessante adicionar rótulos para os motivos. Seria benéfico, também, uma melhor graduação da habilidade de impacto (Ability to Impact) tendo em vista os pesos para cada um dos motivos, explicando e facilitando o entendimento da medida usada.\n",
        "\n",
        "\n",
        "*Como adendo, é válido ressaltar que o tipo de gráfico escolhido pode dificultar uma comparação entre as duas coletas de dados. Ao optar por utilizar esse modelo, poderíamos unificar os gráficos utilizando técnicas de clusterização nos motivos para que fique vísivel a discrepância.*\n",
        "\n",
        "---\n"
      ],
      "metadata": {
        "id": "MPs2h__YeLMl"
      }
    },
    {
      "cell_type": "markdown",
      "source": [
        "### <center>  Tratamento dos Dados e Cálculos de Percentual </center>\n",
        "\n",
        "Após a coleta dos dados das respostas, uma etapa crítica foi o tratamento adequado dos mesmos para que pudessem ser traduzidos e analisados de maneira precisa. Os dados brutos, recebidos em um arquivo Excel, foram importados para o Tableau, onde passaram por um processo de limpeza e transformação. Os motivos de saída, representados por termos em outro idioma, foram traduzidos utilizando o recurso de Alias do Tableau. Isso permitiu que cada motivo fosse compreendido de maneira clara e significativa.\n",
        "\n",
        "Um passo fundamental foi a criação de novos campos calculados para calcular a porcentagem de cada motivo em relação ao total de respostas em cada pesquisa. Esses campos calculados utilizaram funções de agregação para somar as menções de cada motivo e dividir pelo total de respostas, auxiliando uma visão clara das proporções de cada motivo em relação ao total de respostas em ambas as pesquisas: a pesquisa HRBP e a pesquisa de saída.\n",
        "\n",
        "Além disso, foram construídos campos calculados adicionais para mostrar a diferença entre os motivos em cada pesquisa. Esses campos calculados forneceram insights valiosos sobre as discrepâncias nas percepções dos funcionários entre as duas pesquisas, enriquecendo ainda mais nossa análise."
      ],
      "metadata": {
        "id": "SEJNuej_s284"
      }
    },
    {
      "cell_type": "markdown",
      "source": [
        "![Fonte de Dados](https://github.com/luhonunes/RH_interativo/blob/main/Imagens/Fonte%20de%20dados.png?raw=true)"
      ],
      "metadata": {
        "id": "EiP67cjASl0V"
      }
    },
    {
      "cell_type": "markdown",
      "source": [
        "---\n"
      ],
      "metadata": {
        "id": "68srxknKb2ia"
      }
    },
    {
      "cell_type": "markdown",
      "source": [
        "### <center>  Análise das Diferenças entre Respostas do HRBP e Pesquisa de Saída </center>\n",
        "\n",
        "**Explorando as Discrepâncias nas Respostas**\n",
        "\n",
        "A análise comparativa entre as respostas coletadas pelo HRBP e as obtidas através da pesquisa de saída revela nuances importantes no processo de comunicação entre os funcionários e a organização. As diferenças entre as respostas podem ser influenciadas por diversos fatores que afetam como os funcionários se expressam em diferentes contextos.\n",
        "\n",
        "1. Natureza Confidencial vs. Contexto Formal:\n",
        "\n",
        "A diferença nas respostas pode ser atribuída à natureza confidencial das interações entre funcionários e HRBP. Os funcionários podem ser mais propensos a compartilhar problemas pessoais ou não profissionais com o HRBP, o que pode levar a uma maior variedade de respostas. Por outro lado, a pesquisa de saída pode ser percebida como um contexto mais formal e abrangente, onde os funcionários tendem a focar em razões mais objetivas, como remuneração e progressão de carreira.\n",
        "\n",
        "2. Medo de Retaliação e Confiança:\n",
        "\n",
        "Os funcionários podem hesitar em compartilhar certas razões de saída em uma pesquisa aberta devido ao medo de retaliação ou de serem vistos negativamente pela organização. No entanto, em conversas confidenciais com o HRBP, eles podem se sentir mais seguros para expressar preocupações pessoais ou conflitos interpessoais que poderiam não ser mencionados em uma pesquisa anônima.\n",
        "\n",
        "3. Experiências Individuais e Percepções:\n",
        "\n",
        "As diferenças também podem surgir devido às experiências individuais dos funcionários. Um funcionário pode ter enfrentado problemas de reconhecimento, enquanto outro pode ter tido dificuldades em relação à carga horária. Essas experiências pessoais moldam as percepções de cada indivíduo sobre as razões de saída mais impactantes.\n",
        "\n",
        "4. Reflexo do Ambiente de Trabalho:\n",
        "\n",
        "As discrepâncias podem também ser reflexo do ambiente de trabalho. Se a empresa criou um ambiente onde os funcionários se sentem à vontade para compartilhar seus sentimentos e preocupações com o HRBP, as respostas podem ser mais abertas. Por outro lado, se houver uma cultura de medo ou falta de confiança, as respostas podem ser mais superficiais em ambas as situações.\n",
        "\n",
        "5. Autopercepção e Fatores Sociais:\n",
        "\n",
        "Funcionários podem também ter diferentes níveis de autopercepção. Alguns podem não reconhecer suas próprias razões de saída até que sejam questionados de maneira direta. Além disso, fatores sociais e pressões externas podem influenciar o que os funcionários escolhem compartilhar, dependendo do contexto."
      ],
      "metadata": {
        "id": "T8g1RdL575k0"
      }
    },
    {
      "cell_type": "markdown",
      "source": [
        "---"
      ],
      "metadata": {
        "id": "bEraj21gb99B"
      }
    },
    {
      "cell_type": "markdown",
      "source": [
        "### <center> Explorando os Dashboards </center>\n",
        "\n",
        "**Dashboard das Razões de Saída**\n",
        "\n",
        "O primeiro passo é entender as principais razões de saída dos funcionários. Através de visualizações dinâmicas, você destaca os motivos mais recorrentes, permitindo uma compreensão rápida dos problemas mais prementes. A graduação de cores permite uma rápida conexão entre o motivo e seu impacto.\n",
        "\n",
        "- **Dashboard de Impacto e Média de Motivos**\n",
        "\n",
        "Com base nas razões identificadas, você mergulha mais fundo para entender o impacto que cada uma delas tem na organização. Gráficos claros ilustram como essas razões estão afetando a retenção de talentos e o desempenho da equipe. A utilização do Tree Map permite a rápida conexão dos motivos com seu impacto e a importância que eles têm em relação ao total utilizando a média das respostas nas duas pesquisas.\n"
      ],
      "metadata": {
        "id": "Ry2Tn5t99bUX"
      }
    },
    {
      "cell_type": "markdown",
      "source": [
        "![Impacto e Média de Motivos](https://github.com/luhonunes/RH_interativo/blob/main/Imagens/Medias%20e%20Impacto%20dos%20Motivos.png?raw=true)"
      ],
      "metadata": {
        "id": "YV78zQ_1wpR1"
      }
    },
    {
      "cell_type": "markdown",
      "source": [
        "*Como insuficiência nessa visualização, notamos que não é feita uma comparação entre as duas pesquisas e que o grande número de categorias de classificação (11), dificultam um pouco a visualização clara quando as razões tem médias próximas umas das outras.*"
      ],
      "metadata": {
        "id": "-a__rPfIydbN"
      }
    },
    {
      "cell_type": "markdown",
      "source": [
        "- **Dashboard de Porcentagem por Motivo em Ambas as Pesquisas**\n",
        "\n",
        "Após identificados os motivos e graduados os impactos com base em seu peso de importância, aprofundamos a visão para entender a discrepância entre as respostas das duas pesquisas. Utilizando dois gráficos de barras é possível observar como motivos diferentes se comportam de maneira adversa nas pesquisas. A graduação coroplética permite uma rápida associação entre o motivo e seu peso na análise da instituição.  A representação permite, também, uma rápida conexão entre os motivos dados em cada pesquisa e a distribuição diferente entre elas."
      ],
      "metadata": {
        "id": "1B5eCvYuxA8j"
      }
    },
    {
      "cell_type": "markdown",
      "source": [
        "![% de Motivos de Ambas as Pesquisas](https://github.com/luhonunes/RH_interativo/blob/main/Imagens/%25%20por%20Pesquisa.png?raw=true)"
      ],
      "metadata": {
        "id": "BqU27FUMxJ5W"
      }
    },
    {
      "cell_type": "markdown",
      "source": [
        "*Como insuficiência é possivel notar que utilizando dois gráficos com escalas diferentes no eixo y a visualização real da discrepância dos valores em cada pesquisa fica prejudicada, não sendo extremamente acurada um ágil paralelo entre os gráficos.*"
      ],
      "metadata": {
        "id": "ytorGs_kyw_c"
      }
    },
    {
      "cell_type": "markdown",
      "source": [
        "- **Dashboard de dispersão dos motivos e diferença das respostas**\n",
        "\n",
        "Agora, após uma breve análise de comparação entre os dados, podemos intensificar o confronto entre as pesquisas e a dispersão de respostas utilizando, justamente, o gráfico de dispersão. Graduando os motivos por seu percentual de resposta em cada pesquisa (utilizando o círculo para Motivo HRBP e o quadrado para Motivo de Saída) conseguimos enxergar o peso que cada resposta teve em cada questionário. É possível analisar as discrepâncias por motivo por pesquisa e seu peso ao mesmo tempo. Complementando a visualização, usamos abaixo um gráfico de barras que representa a diferença entre Motivo HRBP e Motivo Saída. Assim, podemos graduar melhor como cada motivo se comporta nas pesquisas."
      ],
      "metadata": {
        "id": "2Rvhm1yDxZB0"
      }
    },
    {
      "cell_type": "markdown",
      "source": [
        "![Discrepancias](https://github.com/luhonunes/RH_interativo/blob/main/Imagens/Discrepancias.png?raw=true)"
      ],
      "metadata": {
        "id": "AN2kZdUXxoNp"
      }
    },
    {
      "cell_type": "markdown",
      "source": [
        "*Como insuficiência, notamos que, o gráfico de dispersão se beneficiaria de uma legenda para compreensão rápida de qual forma representa cada pesquisa. Também quando a importância em cada questionário é muito próxima a visualização no gráfico de dispersão fica um pouco prejudicada. Já no gráfico de barras seria interessante uma explicação do resultado positvo ou negativo para uma compreensão automática.*"
      ],
      "metadata": {
        "id": "qMdtdVc0y6l0"
      }
    },
    {
      "cell_type": "markdown",
      "source": [
        "- **Melhor representação**\n",
        "\n",
        "Sabendo que nenhum gráfico atingirá, por si só, a perfeição na demonstração dos resultados, a escolha para melhor representar os dados seria o **Dashboard de dispersão e diferença das respostas**. Nele é possível identificar de maneira ágil e intuitiva o comportamento de cada resposta em cada pesquisa. Utilizando o percentual fica claro o peso das respostas em cada situação e o gráfico de barras complementa deixando muito evidente quais são as discrepâncias por resposta. É um dashboard visual, ágil e intuitivo se beneficiando de uma rápida explicação."
      ],
      "metadata": {
        "id": "FxgEADRczMum"
      }
    },
    {
      "cell_type": "markdown",
      "source": [
        "---\n"
      ],
      "metadata": {
        "id": "I4__h1otb_8Q"
      }
    },
    {
      "cell_type": "markdown",
      "source": [
        "\n",
        "\n",
        "**Descobertas que os Dados Contam**\n",
        "\n",
        "À medida que você explora os dados e constrói os dashboards, uma história começa a se desenrolar:\n",
        "\n",
        "*Na empresa de marketing, funcionários têm buscado novos horizontes por razões que vão desde a falta de reconhecimento até problemas de saúde. A insatisfação com a remuneração e a ausência de oportunidades de crescimento estão claramente afetando a moral e a permanência da equipe. Conflitos interpessoais e um desequilíbrio entre a carga de trabalho e a vida pessoal também emergem como fatores cruciais. Seria importante observar que os dados revelam uma falta de confiança dos funcionários com o setor de RH. A discrepância observada nas respostas fornecidas ao setor e as respostas fornecidas de maneira confidencial evidenciam que os colaboradores não se sentem confortáveis em falar abertamente sobre suas dificuldades. Porém, as soluções estão ao alcance. Através da oferta de treinamentos aprimorados, estratégias de reconhecimento eficazes, ajustes na estrutura salarial e um ambiente de trabalho mais saudável, a organização pode reverter essa tendência de saída e criar um local onde os funcionários sintam que podem crescer e prosperar. Junto a esse esforço, um trabalho de construção de confiança entre funcionário e RH fará com que o setor possa identificar de maneira eficaz e antecipada os pontos de insatisfação da equipe. Dessa maneira, o setor pode agir e reter talentos, encaminhando-os para os projetos que solucionam e avaliam os motivos de descontentamento.*\n",
        "\n"
      ],
      "metadata": {
        "id": "YiC8_H4cwi_3"
      }
    },
    {
      "cell_type": "markdown",
      "source": [
        "---\n"
      ],
      "metadata": {
        "id": "tt5GI4j60RyD"
      }
    },
    {
      "cell_type": "markdown",
      "source": [
        "\n",
        "### <center> Conclusão e Sugestões para Análises Futuras </center>\n",
        "\n",
        "**Moldando o Futuro da Organização**\n",
        "\n",
        "Neste projeto, mergulhamos nos dados organizacionais para entender por que os funcionários estão deixando a empresa de marketing. Através da criação de dashboards interativos e da análise cuidadosa das informações, construímos uma narrativa sólida e acionável. Agora, munidos com insights poderosos, o CMO e o HRBP podem iniciar a jornada de transformação, criando um ambiente que valoriza e nutre seus talentos, construindo um futuro mais brilhante para a organização.\n",
        "\n",
        "\n",
        "**Sugestões para Análises Futuras e Melhoria na Coleta de Dados**\n",
        "\n",
        "1. **Aprofundamento na Coleta de Dados:** Para análises mais robustas, é essencial coletar dados mais detalhados e específicos. Além das pesquisas, considerar a realização de entrevistas individuais com os funcionários que deixam a empresa para obter insights mais profundos sobre suas experiências.\n",
        "\n",
        "1. **Análise Temporal:** Incorporar uma dimensão temporal nas análises pode revelar tendências ao longo do tempo. Acompanhar as razões de saída trimestral ou anualmente pode ajudar a identificar mudanças significativas.\n",
        "\n",
        "1. **Avaliação do Impacto das Soluções:** Após a implementação das soluções propostas, é fundamental realizar análises de acompanhamento para avaliar o impacto real sobre a retenção de talentos. Isso ajudará a verificar a eficácia das medidas adotadas.\n",
        "\n",
        "1. **Feedback Contínuo dos Funcionários:** Criar um sistema de feedback contínuo dos funcionários pode ser valioso. Isso pode ser feito por meio de pesquisas regulares de engajamento ou caixas de sugestões para que os funcionários possam expressar preocupações e ideias de melhoria de forma contínua.\n",
        "\n",
        "1. **Comparação com Benchmarks do Setor:** Comparar as taxas de rotatividade e as razões de saída com benchmarks do setor pode fornecer insights adicionais. Se a empresa estiver se destacando negativamente em algumas áreas, isso pode indicar áreas críticas a serem abordadas.\n",
        "\n",
        "1. **Uso de Ferramentas de Análise Avançada:** Considere a implementação de ferramentas avançadas de análise de dados, como análise de sentimentos em comentários dos funcionários, para compreender melhor suas emoções e preocupações.\n",
        "\n",
        "1. **Promoção de Cultura de Feedback:** Encorajar uma cultura onde os funcionários se sintam à vontade para fornecer feedback aberto e honesto é fundamental. Isso pode ser promovido por meio de treinamentos e comunicação eficaz.\n",
        "\n",
        "1. **Avaliação da Eficácia das Propostas de Soluções:** Após a implementação das soluções propostas, é crucial realizar avaliações periódicas para garantir que elas estejam tendo o impacto desejado. Ajustes podem ser necessários com base nos resultados.\n",
        "\n",
        "1. **Colaboração Interdepartamental:** Promover a colaboração entre o departamento de Recursos Humanos, o departamento de Marketing e outros setores é crucial para abordar questões de retenção de talentos de maneira holística.\n",
        "\n",
        "1. **Aprimoramento na Análise de Discrepâncias:** Em futuras análises, considere técnicas estatísticas mais avançadas para analisar as discrepâncias entre as respostas do HRBP e da pesquisa de saída, incluindo análise de correlação e testes de hipóteses para identificar relações significativas.\n",
        "\n",
        "Seguindo essas sugestões e aprimorando a coleta de dados, a organização estará melhor preparada para compreender, abordar e resolver questões de retenção de talentos de forma eficaz e orientada por dados. Isso contribuirá para um ambiente de trabalho mais saudável e próspero, beneficiando tanto os funcionários quanto a organização como um todo."
      ],
      "metadata": {
        "id": "yejfn8GM0TQX"
      }
    }
  ]
}